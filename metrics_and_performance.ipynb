{
 "cells": [
  {
   "cell_type": "markdown",
   "metadata": {},
   "source": [
    "# Training Loop"
   ]
  },
  {
   "cell_type": "markdown",
   "metadata": {},
   "source": [
    "1. Retrieve the [CheXpert](https://stanfordmlgroup.github.io/competitions/chexpert) dataset. The validation dataset can be found [here](https://stanfordaimi.azurewebsites.net/datasets/23c56a0d-15de-405b-87c8-99c30138950c) contained within the CheXpert directory. Note: the test dataset provided by the researchers does not contain the same structured labels (ie: `Age`, `Sex`, etc..) as the train and validation set. We perform random sampling from the train set to retrieve the test set for this project. \n",
    "2. Generate the test set by sampling from the training set. In our case, we randomly selected 2% of the training data for testing.\n",
    "3. Create the dictionaries needed to read each dataset (train, valid, test) and save them to disk. Since the training data was much too large, we create 20 separate training datasets that we iterate through when training.\n",
    "\n",
    "See the `README.md` file in the data directory for data setup specifics.\n",
    "\n",
    "4. Model checkpoints are made each epoch during training. Train loss, validation loss, mean AUROC during training and mean AUROC during validation are saved to a csv file each iteration.\n",
    "5. The Model is trained on 20 training datasets, each representing a randomly selected 5% (without replacement) of the entire set for 10 epochs each. The batch size used was 24.\n"
   ]
  },
  {
   "cell_type": "markdown",
   "metadata": {},
   "source": [
    "# IRENE Results"
   ]
  },
  {
   "cell_type": "code",
   "execution_count": 1,
   "metadata": {},
   "outputs": [
    {
     "data": {
      "text/html": [
       "<div>\n",
       "<style scoped>\n",
       "    .dataframe tbody tr th:only-of-type {\n",
       "        vertical-align: middle;\n",
       "    }\n",
       "\n",
       "    .dataframe tbody tr th {\n",
       "        vertical-align: top;\n",
       "    }\n",
       "\n",
       "    .dataframe thead th {\n",
       "        text-align: right;\n",
       "    }\n",
       "</style>\n",
       "<table border=\"1\" class=\"dataframe\">\n",
       "  <thead>\n",
       "    <tr style=\"text-align: right;\">\n",
       "      <th></th>\n",
       "      <th>dataset</th>\n",
       "      <th>set_num</th>\n",
       "      <th>epoch</th>\n",
       "      <th>trn_loss</th>\n",
       "      <th>trn_mean_auroc</th>\n",
       "      <th>val_loss</th>\n",
       "      <th>val_mean_auroc</th>\n",
       "    </tr>\n",
       "  </thead>\n",
       "  <tbody>\n",
       "    <tr>\n",
       "      <th>0</th>\n",
       "      <td>./data/actual/train_0.pkl</td>\n",
       "      <td>0</td>\n",
       "      <td>1</td>\n",
       "      <td>0.563882</td>\n",
       "      <td>0.591154</td>\n",
       "      <td>0.476869</td>\n",
       "      <td>0.574488</td>\n",
       "    </tr>\n",
       "    <tr>\n",
       "      <th>1</th>\n",
       "      <td>./data/actual/train_0.pkl</td>\n",
       "      <td>0</td>\n",
       "      <td>2</td>\n",
       "      <td>0.548167</td>\n",
       "      <td>0.635756</td>\n",
       "      <td>0.462459</td>\n",
       "      <td>0.586174</td>\n",
       "    </tr>\n",
       "    <tr>\n",
       "      <th>2</th>\n",
       "      <td>./data/actual/train_0.pkl</td>\n",
       "      <td>0</td>\n",
       "      <td>3</td>\n",
       "      <td>0.539093</td>\n",
       "      <td>0.655897</td>\n",
       "      <td>0.458620</td>\n",
       "      <td>0.660027</td>\n",
       "    </tr>\n",
       "    <tr>\n",
       "      <th>3</th>\n",
       "      <td>./data/actual/train_0.pkl</td>\n",
       "      <td>0</td>\n",
       "      <td>4</td>\n",
       "      <td>0.525229</td>\n",
       "      <td>0.678167</td>\n",
       "      <td>0.437948</td>\n",
       "      <td>0.680434</td>\n",
       "    </tr>\n",
       "    <tr>\n",
       "      <th>4</th>\n",
       "      <td>./data/actual/train_0.pkl</td>\n",
       "      <td>0</td>\n",
       "      <td>5</td>\n",
       "      <td>0.519875</td>\n",
       "      <td>0.686688</td>\n",
       "      <td>0.433910</td>\n",
       "      <td>0.689004</td>\n",
       "    </tr>\n",
       "    <tr>\n",
       "      <th>...</th>\n",
       "      <td>...</td>\n",
       "      <td>...</td>\n",
       "      <td>...</td>\n",
       "      <td>...</td>\n",
       "      <td>...</td>\n",
       "      <td>...</td>\n",
       "      <td>...</td>\n",
       "    </tr>\n",
       "    <tr>\n",
       "      <th>195</th>\n",
       "      <td>./data/actual/train_19.pkl</td>\n",
       "      <td>19</td>\n",
       "      <td>6</td>\n",
       "      <td>0.406080</td>\n",
       "      <td>0.836532</td>\n",
       "      <td>0.407489</td>\n",
       "      <td>0.826824</td>\n",
       "    </tr>\n",
       "    <tr>\n",
       "      <th>196</th>\n",
       "      <td>./data/actual/train_19.pkl</td>\n",
       "      <td>19</td>\n",
       "      <td>7</td>\n",
       "      <td>0.403281</td>\n",
       "      <td>0.839203</td>\n",
       "      <td>0.407128</td>\n",
       "      <td>0.821158</td>\n",
       "    </tr>\n",
       "    <tr>\n",
       "      <th>197</th>\n",
       "      <td>./data/actual/train_19.pkl</td>\n",
       "      <td>19</td>\n",
       "      <td>8</td>\n",
       "      <td>0.401231</td>\n",
       "      <td>0.841086</td>\n",
       "      <td>0.408375</td>\n",
       "      <td>0.828896</td>\n",
       "    </tr>\n",
       "    <tr>\n",
       "      <th>198</th>\n",
       "      <td>./data/actual/train_19.pkl</td>\n",
       "      <td>19</td>\n",
       "      <td>9</td>\n",
       "      <td>0.399257</td>\n",
       "      <td>0.842605</td>\n",
       "      <td>0.410504</td>\n",
       "      <td>0.819801</td>\n",
       "    </tr>\n",
       "    <tr>\n",
       "      <th>199</th>\n",
       "      <td>./data/actual/train_19.pkl</td>\n",
       "      <td>19</td>\n",
       "      <td>10</td>\n",
       "      <td>0.394545</td>\n",
       "      <td>0.846713</td>\n",
       "      <td>0.416199</td>\n",
       "      <td>0.808604</td>\n",
       "    </tr>\n",
       "  </tbody>\n",
       "</table>\n",
       "<p>200 rows × 7 columns</p>\n",
       "</div>"
      ],
      "text/plain": [
       "                        dataset  set_num  epoch  trn_loss  trn_mean_auroc  \\\n",
       "0     ./data/actual/train_0.pkl        0      1  0.563882        0.591154   \n",
       "1     ./data/actual/train_0.pkl        0      2  0.548167        0.635756   \n",
       "2     ./data/actual/train_0.pkl        0      3  0.539093        0.655897   \n",
       "3     ./data/actual/train_0.pkl        0      4  0.525229        0.678167   \n",
       "4     ./data/actual/train_0.pkl        0      5  0.519875        0.686688   \n",
       "..                          ...      ...    ...       ...             ...   \n",
       "195  ./data/actual/train_19.pkl       19      6  0.406080        0.836532   \n",
       "196  ./data/actual/train_19.pkl       19      7  0.403281        0.839203   \n",
       "197  ./data/actual/train_19.pkl       19      8  0.401231        0.841086   \n",
       "198  ./data/actual/train_19.pkl       19      9  0.399257        0.842605   \n",
       "199  ./data/actual/train_19.pkl       19     10  0.394545        0.846713   \n",
       "\n",
       "     val_loss  val_mean_auroc  \n",
       "0    0.476869        0.574488  \n",
       "1    0.462459        0.586174  \n",
       "2    0.458620        0.660027  \n",
       "3    0.437948        0.680434  \n",
       "4    0.433910        0.689004  \n",
       "..        ...             ...  \n",
       "195  0.407489        0.826824  \n",
       "196  0.407128        0.821158  \n",
       "197  0.408375        0.828896  \n",
       "198  0.410504        0.819801  \n",
       "199  0.416199        0.808604  \n",
       "\n",
       "[200 rows x 7 columns]"
      ]
     },
     "execution_count": 1,
     "metadata": {},
     "output_type": "execute_result"
    }
   ],
   "source": [
    "import pandas as pd\n",
    "df_irene = pd.read_csv('checkpoints/metrics.csv')\n",
    "df_irene"
   ]
  },
  {
   "cell_type": "markdown",
   "metadata": {},
   "source": [
    "Plotting the train and validation loss per each training iteration. Each of the 20 sets were trained for 10 epochs before moving on to the next."
   ]
  },
  {
   "cell_type": "code",
   "execution_count": null,
   "metadata": {},
   "outputs": [],
   "source": []
  },
  {
   "cell_type": "markdown",
   "metadata": {},
   "source": [
    "Selecting the best model based on validation loss."
   ]
  },
  {
   "cell_type": "code",
   "execution_count": 2,
   "metadata": {},
   "outputs": [
    {
     "data": {
      "text/html": [
       "<div>\n",
       "<style scoped>\n",
       "    .dataframe tbody tr th:only-of-type {\n",
       "        vertical-align: middle;\n",
       "    }\n",
       "\n",
       "    .dataframe tbody tr th {\n",
       "        vertical-align: top;\n",
       "    }\n",
       "\n",
       "    .dataframe thead th {\n",
       "        text-align: right;\n",
       "    }\n",
       "</style>\n",
       "<table border=\"1\" class=\"dataframe\">\n",
       "  <thead>\n",
       "    <tr style=\"text-align: right;\">\n",
       "      <th></th>\n",
       "      <th>dataset</th>\n",
       "      <th>set_num</th>\n",
       "      <th>epoch</th>\n",
       "      <th>trn_loss</th>\n",
       "      <th>trn_mean_auroc</th>\n",
       "      <th>val_loss</th>\n",
       "      <th>val_mean_auroc</th>\n",
       "    </tr>\n",
       "  </thead>\n",
       "  <tbody>\n",
       "    <tr>\n",
       "      <th>160</th>\n",
       "      <td>./data/actual/train_16.pkl</td>\n",
       "      <td>16</td>\n",
       "      <td>1</td>\n",
       "      <td>0.439726</td>\n",
       "      <td>0.805184</td>\n",
       "      <td>0.36235</td>\n",
       "      <td>0.811331</td>\n",
       "    </tr>\n",
       "  </tbody>\n",
       "</table>\n",
       "</div>"
      ],
      "text/plain": [
       "                        dataset  set_num  epoch  trn_loss  trn_mean_auroc  \\\n",
       "160  ./data/actual/train_16.pkl       16      1  0.439726        0.805184   \n",
       "\n",
       "     val_loss  val_mean_auroc  \n",
       "160   0.36235        0.811331  "
      ]
     },
     "execution_count": 2,
     "metadata": {},
     "output_type": "execute_result"
    }
   ],
   "source": [
    "best_mod = df_irene[df_irene['val_loss'] == df_irene['val_loss'].min()]\n",
    "best_mod"
   ]
  },
  {
   "cell_type": "markdown",
   "metadata": {},
   "source": [
    "The best model based on validation loss corresponds to the model saved as `set_16_epc_1.pt`."
   ]
  },
  {
   "cell_type": "markdown",
   "metadata": {},
   "source": [
    "### Predicting on Test Set"
   ]
  }
 ],
 "metadata": {
  "kernelspec": {
   "display_name": "pytorchEnv",
   "language": "python",
   "name": "python3"
  },
  "language_info": {
   "codemirror_mode": {
    "name": "ipython",
    "version": 3
   },
   "file_extension": ".py",
   "mimetype": "text/x-python",
   "name": "python",
   "nbconvert_exporter": "python",
   "pygments_lexer": "ipython3",
   "version": "3.10.12"
  },
  "orig_nbformat": 4
 },
 "nbformat": 4,
 "nbformat_minor": 2
}
